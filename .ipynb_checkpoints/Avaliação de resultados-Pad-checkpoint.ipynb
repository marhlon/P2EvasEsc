{
 "cells": [
  {
   "cell_type": "code",
   "execution_count": 1,
   "metadata": {},
   "outputs": [],
   "source": [
    "import numpy as np\n",
    "import pandas as pd\n",
    "import matplotlib.pyplot as plt\n",
    "import seaborn as sns\n",
    "%matplotlib inline"
   ]
  },
  {
   "cell_type": "code",
   "execution_count": 2,
   "metadata": {},
   "outputs": [],
   "source": [
    "metodos = ['GaussianNB()', 'LogisticRegression()', 'KNeighborsClassifier()', 'SVC()', 'SVC(C=100, gamma=0.01)',\n",
    "           'DecisionTreeClassifier()', 'DecisionTreeClassifier(max_depth=3)', 'RandomForestClassifier()',\n",
    "           'RandomForestClassifier(n_estimators=5)', 'MLPClassifier()', 'MLPClassifier(max_iter=18)']\n",
    "\n",
    "avaliacoes = ['accuracy_score', 'precision_score', 'f1_score']\n",
    "\n",
    "db0 = pd.read_csv('Relatorio/Normal/classification_report_{}.csv'.format(str(metodos[0])))\n",
    "db1 = pd.read_csv('Relatorio/Normal/classification_report_{}.csv'.format(str(metodos[1])))\n",
    "db2 = pd.read_csv('Relatorio/Normal/classification_report_{}.csv'.format(str(metodos[2])))\n",
    "db3 = pd.read_csv('Relatorio/Normal/classification_report_{}.csv'.format(str(metodos[3])))\n",
    "db4 = pd.read_csv('Relatorio/Normal/classification_report_{}.csv'.format(str(metodos[4])))\n",
    "db5 = pd.read_csv('Relatorio/Normal/classification_report_{}.csv'.format(str(metodos[5])))\n",
    "db6 = pd.read_csv('Relatorio/Normal/classification_report_{}.csv'.format(str(metodos[6])))\n",
    "db7 = pd.read_csv('Relatorio/Normal/classification_report_{}.csv'.format(str(metodos[7])))\n",
    "db8 = pd.read_csv('Relatorio/Normal/classification_report_{}.csv'.format(str(metodos[8])))\n",
    "db9 = pd.read_csv('Relatorio/Normal/classification_report_{}.csv'.format(str(metodos[9])))\n",
    "db10 = pd.read_csv('Relatorio/Normal/classification_report_{}.csv'.format(str(metodos[10])))"
   ]
  },
  {
   "cell_type": "code",
   "execution_count": 3,
   "metadata": {},
   "outputs": [],
   "source": [
    "mediasCalc = []"
   ]
  },
  {
   "cell_type": "code",
   "execution_count": 4,
   "metadata": {},
   "outputs": [],
   "source": [
    "def calcMedia(database):\n",
    "    for i in range(0,len(avaliacoes)):\n",
    "        mediasCalc.append(database.mean()[i])"
   ]
  },
  {
   "cell_type": "code",
   "execution_count": 5,
   "metadata": {},
   "outputs": [],
   "source": [
    "calcMedia(db0)\n",
    "calcMedia(db1)\n",
    "calcMedia(db2)\n",
    "calcMedia(db3)\n",
    "calcMedia(db4)\n",
    "calcMedia(db5)\n",
    "calcMedia(db6)\n",
    "calcMedia(db7)\n",
    "calcMedia(db8)\n",
    "calcMedia(db9)\n",
    "calcMedia(db10)"
   ]
  },
  {
   "cell_type": "code",
   "execution_count": 6,
   "metadata": {},
   "outputs": [],
   "source": [
    "mediasCalc = pd.DataFrame(data=np.reshape(mediasCalc, (11,3)), index=metodos, columns=avaliacoes)"
   ]
  },
  {
   "cell_type": "code",
   "execution_count": 7,
   "metadata": {},
   "outputs": [
    {
     "data": {
      "text/html": [
       "<div>\n",
       "<style scoped>\n",
       "    .dataframe tbody tr th:only-of-type {\n",
       "        vertical-align: middle;\n",
       "    }\n",
       "\n",
       "    .dataframe tbody tr th {\n",
       "        vertical-align: top;\n",
       "    }\n",
       "\n",
       "    .dataframe thead th {\n",
       "        text-align: right;\n",
       "    }\n",
       "</style>\n",
       "<table border=\"1\" class=\"dataframe\">\n",
       "  <thead>\n",
       "    <tr style=\"text-align: right;\">\n",
       "      <th></th>\n",
       "      <th>accuracy_score</th>\n",
       "      <th>precision_score</th>\n",
       "      <th>f1_score</th>\n",
       "    </tr>\n",
       "  </thead>\n",
       "  <tbody>\n",
       "    <tr>\n",
       "      <th>GaussianNB()</th>\n",
       "      <td>0.548387</td>\n",
       "      <td>0.545455</td>\n",
       "      <td>0.222222</td>\n",
       "    </tr>\n",
       "    <tr>\n",
       "      <th>LogisticRegression()</th>\n",
       "      <td>0.806452</td>\n",
       "      <td>0.755102</td>\n",
       "      <td>0.804348</td>\n",
       "    </tr>\n",
       "    <tr>\n",
       "      <th>KNeighborsClassifier()</th>\n",
       "      <td>0.774194</td>\n",
       "      <td>0.775000</td>\n",
       "      <td>0.746988</td>\n",
       "    </tr>\n",
       "    <tr>\n",
       "      <th>SVC()</th>\n",
       "      <td>0.634409</td>\n",
       "      <td>0.584906</td>\n",
       "      <td>0.645833</td>\n",
       "    </tr>\n",
       "    <tr>\n",
       "      <th>SVC(C=100, gamma=0.01)</th>\n",
       "      <td>0.860215</td>\n",
       "      <td>0.826087</td>\n",
       "      <td>0.853933</td>\n",
       "    </tr>\n",
       "    <tr>\n",
       "      <th>DecisionTreeClassifier()</th>\n",
       "      <td>0.979211</td>\n",
       "      <td>0.961963</td>\n",
       "      <td>0.977925</td>\n",
       "    </tr>\n",
       "    <tr>\n",
       "      <th>DecisionTreeClassifier(max_depth=3)</th>\n",
       "      <td>0.989247</td>\n",
       "      <td>0.977273</td>\n",
       "      <td>0.988506</td>\n",
       "    </tr>\n",
       "    <tr>\n",
       "      <th>RandomForestClassifier()</th>\n",
       "      <td>0.960573</td>\n",
       "      <td>0.938796</td>\n",
       "      <td>0.958379</td>\n",
       "    </tr>\n",
       "    <tr>\n",
       "      <th>RandomForestClassifier(n_estimators=5)</th>\n",
       "      <td>0.858423</td>\n",
       "      <td>0.832543</td>\n",
       "      <td>0.851244</td>\n",
       "    </tr>\n",
       "    <tr>\n",
       "      <th>MLPClassifier()</th>\n",
       "      <td>0.770251</td>\n",
       "      <td>0.733983</td>\n",
       "      <td>0.763068</td>\n",
       "    </tr>\n",
       "    <tr>\n",
       "      <th>MLPClassifier(max_iter=18)</th>\n",
       "      <td>0.594265</td>\n",
       "      <td>0.565963</td>\n",
       "      <td>0.568778</td>\n",
       "    </tr>\n",
       "  </tbody>\n",
       "</table>\n",
       "</div>"
      ],
      "text/plain": [
       "                                        accuracy_score  precision_score  \\\n",
       "GaussianNB()                                  0.548387         0.545455   \n",
       "LogisticRegression()                          0.806452         0.755102   \n",
       "KNeighborsClassifier()                        0.774194         0.775000   \n",
       "SVC()                                         0.634409         0.584906   \n",
       "SVC(C=100, gamma=0.01)                        0.860215         0.826087   \n",
       "DecisionTreeClassifier()                      0.979211         0.961963   \n",
       "DecisionTreeClassifier(max_depth=3)           0.989247         0.977273   \n",
       "RandomForestClassifier()                      0.960573         0.938796   \n",
       "RandomForestClassifier(n_estimators=5)        0.858423         0.832543   \n",
       "MLPClassifier()                               0.770251         0.733983   \n",
       "MLPClassifier(max_iter=18)                    0.594265         0.565963   \n",
       "\n",
       "                                        f1_score  \n",
       "GaussianNB()                            0.222222  \n",
       "LogisticRegression()                    0.804348  \n",
       "KNeighborsClassifier()                  0.746988  \n",
       "SVC()                                   0.645833  \n",
       "SVC(C=100, gamma=0.01)                  0.853933  \n",
       "DecisionTreeClassifier()                0.977925  \n",
       "DecisionTreeClassifier(max_depth=3)     0.988506  \n",
       "RandomForestClassifier()                0.958379  \n",
       "RandomForestClassifier(n_estimators=5)  0.851244  \n",
       "MLPClassifier()                         0.763068  \n",
       "MLPClassifier(max_iter=18)              0.568778  "
      ]
     },
     "execution_count": 7,
     "metadata": {},
     "output_type": "execute_result"
    }
   ],
   "source": [
    "mediasCalc"
   ]
  },
  {
   "cell_type": "code",
   "execution_count": null,
   "metadata": {},
   "outputs": [],
   "source": []
  }
 ],
 "metadata": {
  "kernelspec": {
   "display_name": "Python 3",
   "language": "python",
   "name": "python3"
  },
  "language_info": {
   "codemirror_mode": {
    "name": "ipython",
    "version": 3
   },
   "file_extension": ".py",
   "mimetype": "text/x-python",
   "name": "python",
   "nbconvert_exporter": "python",
   "pygments_lexer": "ipython3",
   "version": "3.8.3"
  }
 },
 "nbformat": 4,
 "nbformat_minor": 4
}
