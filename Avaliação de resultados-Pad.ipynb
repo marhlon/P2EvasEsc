{
 "cells": [
  {
   "cell_type": "code",
   "execution_count": 1,
   "metadata": {},
   "outputs": [],
   "source": [
    "import numpy as np\n",
    "import pandas as pd\n",
    "import matplotlib.pyplot as plt\n",
    "import seaborn as sns\n",
    "%matplotlib inline"
   ]
  },
  {
   "cell_type": "code",
   "execution_count": 2,
   "metadata": {},
   "outputs": [],
   "source": [
    "metodos = ['GaussianNB()', 'LogisticRegression()', 'KNeighborsClassifier()', 'SVC()', 'SVC(C=1000, gamma=0.001)',\n",
    "           'DecisionTreeClassifier()', 'DecisionTreeClassifier(max_depth=5)', 'RandomForestClassifier()',\n",
    "           'RandomForestClassifier(n_estimators=6)', 'MLPClassifier()', 'MLPClassifier(max_iter=7)']\n",
    "\n",
    "avaliacoes = ['accuracy_score', 'precision_score', 'f1_score']\n",
    "\n",
    "db0 = pd.read_csv('Relatorio/Pad/classification_report_{}.csv'.format(str(metodos[0])))\n",
    "db1 = pd.read_csv('Relatorio/Pad/classification_report_{}.csv'.format(str(metodos[1])))\n",
    "db2 = pd.read_csv('Relatorio/Pad/classification_report_{}.csv'.format(str(metodos[2])))\n",
    "db3 = pd.read_csv('Relatorio/Pad/classification_report_{}.csv'.format(str(metodos[3])))\n",
    "db4 = pd.read_csv('Relatorio/Pad/classification_report_{}.csv'.format(str(metodos[4])))\n",
    "db5 = pd.read_csv('Relatorio/Pad/classification_report_{}.csv'.format(str(metodos[5])))\n",
    "db6 = pd.read_csv('Relatorio/Pad/classification_report_{}.csv'.format(str(metodos[6])))\n",
    "db7 = pd.read_csv('Relatorio/Pad/classification_report_{}.csv'.format(str(metodos[7])))\n",
    "db8 = pd.read_csv('Relatorio/Pad/classification_report_{}.csv'.format(str(metodos[8])))\n",
    "db9 = pd.read_csv('Relatorio/Pad/classification_report_{}.csv'.format(str(metodos[9])))\n",
    "db10 = pd.read_csv('Relatorio/Pad/classification_report_{}.csv'.format(str(metodos[10])))"
   ]
  },
  {
   "cell_type": "code",
   "execution_count": 3,
   "metadata": {},
   "outputs": [],
   "source": [
    "metleg = ['NB', 'RegLog', 'KNN', 'SVC', 'SVC(BP*)', 'ArvClas', 'ArvClas(BP*)', 'RanFor', 'RanFor(BP*)', 'ANN', 'ANN(BP*)']"
   ]
  },
  {
   "cell_type": "code",
   "execution_count": 4,
   "metadata": {},
   "outputs": [],
   "source": [
    "mediasCalc = []"
   ]
  },
  {
   "cell_type": "code",
   "execution_count": 5,
   "metadata": {},
   "outputs": [],
   "source": [
    "def calcMedia(database):\n",
    "    for i in range(0,len(avaliacoes)):\n",
    "        mediasCalc.append(database.mean()[i])"
   ]
  },
  {
   "cell_type": "code",
   "execution_count": 6,
   "metadata": {},
   "outputs": [],
   "source": [
    "calcMedia(db0)\n",
    "calcMedia(db1)\n",
    "calcMedia(db2)\n",
    "calcMedia(db3)\n",
    "calcMedia(db4)\n",
    "calcMedia(db5)\n",
    "calcMedia(db6)\n",
    "calcMedia(db7)\n",
    "calcMedia(db8)\n",
    "calcMedia(db9)\n",
    "calcMedia(db10)"
   ]
  },
  {
   "cell_type": "code",
   "execution_count": 7,
   "metadata": {},
   "outputs": [],
   "source": [
    "mediasCalc = pd.DataFrame(data=np.reshape(mediasCalc, (11,3)), index=metodos, columns=avaliacoes)"
   ]
  },
  {
   "cell_type": "code",
   "execution_count": 8,
   "metadata": {},
   "outputs": [
    {
     "data": {
      "text/html": [
       "<div>\n",
       "<style scoped>\n",
       "    .dataframe tbody tr th:only-of-type {\n",
       "        vertical-align: middle;\n",
       "    }\n",
       "\n",
       "    .dataframe tbody tr th {\n",
       "        vertical-align: top;\n",
       "    }\n",
       "\n",
       "    .dataframe thead th {\n",
       "        text-align: right;\n",
       "    }\n",
       "</style>\n",
       "<table border=\"1\" class=\"dataframe\">\n",
       "  <thead>\n",
       "    <tr style=\"text-align: right;\">\n",
       "      <th></th>\n",
       "      <th>accuracy_score</th>\n",
       "      <th>precision_score</th>\n",
       "      <th>f1_score</th>\n",
       "    </tr>\n",
       "  </thead>\n",
       "  <tbody>\n",
       "    <tr>\n",
       "      <th>GaussianNB()</th>\n",
       "      <td>0.473118</td>\n",
       "      <td>1.000000</td>\n",
       "      <td>0.039216</td>\n",
       "    </tr>\n",
       "    <tr>\n",
       "      <th>LogisticRegression()</th>\n",
       "      <td>0.698925</td>\n",
       "      <td>0.750000</td>\n",
       "      <td>0.702128</td>\n",
       "    </tr>\n",
       "    <tr>\n",
       "      <th>KNeighborsClassifier()</th>\n",
       "      <td>0.784946</td>\n",
       "      <td>0.875000</td>\n",
       "      <td>0.777778</td>\n",
       "    </tr>\n",
       "    <tr>\n",
       "      <th>SVC()</th>\n",
       "      <td>0.709677</td>\n",
       "      <td>0.794872</td>\n",
       "      <td>0.696629</td>\n",
       "    </tr>\n",
       "    <tr>\n",
       "      <th>SVC(C=1000, gamma=0.001)</th>\n",
       "      <td>0.698925</td>\n",
       "      <td>0.775000</td>\n",
       "      <td>0.688889</td>\n",
       "    </tr>\n",
       "    <tr>\n",
       "      <th>DecisionTreeClassifier()</th>\n",
       "      <td>0.973835</td>\n",
       "      <td>1.000000</td>\n",
       "      <td>0.974983</td>\n",
       "    </tr>\n",
       "    <tr>\n",
       "      <th>DecisionTreeClassifier(max_depth=5)</th>\n",
       "      <td>0.974910</td>\n",
       "      <td>1.000000</td>\n",
       "      <td>0.976064</td>\n",
       "    </tr>\n",
       "    <tr>\n",
       "      <th>RandomForestClassifier()</th>\n",
       "      <td>0.938351</td>\n",
       "      <td>0.945191</td>\n",
       "      <td>0.942620</td>\n",
       "    </tr>\n",
       "    <tr>\n",
       "      <th>RandomForestClassifier(n_estimators=6)</th>\n",
       "      <td>0.840502</td>\n",
       "      <td>0.922191</td>\n",
       "      <td>0.836947</td>\n",
       "    </tr>\n",
       "    <tr>\n",
       "      <th>MLPClassifier()</th>\n",
       "      <td>0.734409</td>\n",
       "      <td>0.782936</td>\n",
       "      <td>0.739272</td>\n",
       "    </tr>\n",
       "    <tr>\n",
       "      <th>MLPClassifier(max_iter=7)</th>\n",
       "      <td>0.611111</td>\n",
       "      <td>0.675630</td>\n",
       "      <td>0.596516</td>\n",
       "    </tr>\n",
       "  </tbody>\n",
       "</table>\n",
       "</div>"
      ],
      "text/plain": [
       "                                        accuracy_score  precision_score  \\\n",
       "GaussianNB()                                  0.473118         1.000000   \n",
       "LogisticRegression()                          0.698925         0.750000   \n",
       "KNeighborsClassifier()                        0.784946         0.875000   \n",
       "SVC()                                         0.709677         0.794872   \n",
       "SVC(C=1000, gamma=0.001)                      0.698925         0.775000   \n",
       "DecisionTreeClassifier()                      0.973835         1.000000   \n",
       "DecisionTreeClassifier(max_depth=5)           0.974910         1.000000   \n",
       "RandomForestClassifier()                      0.938351         0.945191   \n",
       "RandomForestClassifier(n_estimators=6)        0.840502         0.922191   \n",
       "MLPClassifier()                               0.734409         0.782936   \n",
       "MLPClassifier(max_iter=7)                     0.611111         0.675630   \n",
       "\n",
       "                                        f1_score  \n",
       "GaussianNB()                            0.039216  \n",
       "LogisticRegression()                    0.702128  \n",
       "KNeighborsClassifier()                  0.777778  \n",
       "SVC()                                   0.696629  \n",
       "SVC(C=1000, gamma=0.001)                0.688889  \n",
       "DecisionTreeClassifier()                0.974983  \n",
       "DecisionTreeClassifier(max_depth=5)     0.976064  \n",
       "RandomForestClassifier()                0.942620  \n",
       "RandomForestClassifier(n_estimators=6)  0.836947  \n",
       "MLPClassifier()                         0.739272  \n",
       "MLPClassifier(max_iter=7)               0.596516  "
      ]
     },
     "execution_count": 8,
     "metadata": {},
     "output_type": "execute_result"
    }
   ],
   "source": [
    "mediasCalc"
   ]
  },
  {
   "cell_type": "code",
   "execution_count": 9,
   "metadata": {},
   "outputs": [
    {
     "data": {
      "image/png": "[encoded data removed]",
      "text/plain": [
       "<Figure size 864x432 with 1 Axes>"
      ]
     },
     "metadata": {
      "needs_background": "light"
     },
     "output_type": "display_data"
    }
   ],
   "source": [
    "plt.figure(figsize=(12,6))\n",
    "\n",
    "barWidth = 0.25\n",
    "\n",
    "r1 = np.arange(len(mediasCalc.index))\n",
    "r2 = [x + barWidth for x in r1]\n",
    "r3 = [x + barWidth for x in r2]\n",
    "\n",
    "plt.bar(r1, mediasCalc['accuracy_score'], color=\"#73A819\", width=barWidth, label=\"Acurácia\")\n",
    "plt.bar(r2, mediasCalc['precision_score'], color=\"#5D7A2A\", width=barWidth, label=\"Precisão\")\n",
    "plt.bar(r3, mediasCalc['f1_score'], color=\"#DBD274\", width=barWidth, label=\"F1\")\n",
    "\n",
    "plt.xlabel('Métodos')\n",
    "plt.xticks([r + barWidth for r in range(len(mediasCalc.index))], metleg)\n",
    "plt.ylabel('Percentual')\n",
    "plt.title('Avaliação dos Scores')\n",
    "\n",
    "plt.legend()\n",
    "plt.show()"
   ]
  },
  {
   "cell_type": "code",
   "execution_count": 10,
   "metadata": {},
   "outputs": [
    {
     "data": {
      "image/png": "[encoded data removed]",
      "text/plain": [
       "<Figure size 864x432 with 1 Axes>"
      ]
     },
     "metadata": {
      "needs_background": "light"
     },
     "output_type": "display_data"
    }
   ],
   "source": [
    "plt.figure(figsize=(12,6))\n",
    "\n",
    "barWidth = 0.25\n",
    "\n",
    "r1 = np.arange(len(db7.index))\n",
    "r2 = [x + barWidth for x in r1]\n",
    "r3 = [x + barWidth for x in r2]\n",
    "\n",
    "plt.bar(r1, db7['accuracy_score'], color=\"#73A819\", width=barWidth, label=\"Acurácia\")\n",
    "plt.bar(r2, db7['precision_score'], color=\"#5D7A2A\", width=barWidth, label=\"Precisão\")\n",
    "plt.bar(r3, db7['f1_score'], color=\"#DBD274\", width=barWidth, label=\"F1\")\n",
    "\n",
    "plt.xlabel('Métodos')\n",
    "plt.xticks(range(0,30))\n",
    "plt.ylabel('Percentual')\n",
    "plt.title('Avaliação dos Scores')\n",
    "\n",
    "plt.legend()\n",
    "plt.show()"
   ]
  },
  {
   "cell_type": "code",
   "execution_count": null,
   "metadata": {},
   "outputs": [],
   "source": []
  }
 ],
 "metadata": {
  "kernelspec": {
   "display_name": "Python 3",
   "language": "python",
   "name": "python3"
  },
  "language_info": {
   "codemirror_mode": {
    "name": "ipython",
    "version": 3
   },
   "file_extension": ".py",
   "mimetype": "text/x-python",
   "name": "python",
   "nbconvert_exporter": "python",
   "pygments_lexer": "ipython3",
   "version": "3.8.3"
  }
 },
 "nbformat": 4,
 "nbformat_minor": 4
}
